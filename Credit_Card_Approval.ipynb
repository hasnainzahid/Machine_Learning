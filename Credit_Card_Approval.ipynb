{
  "nbformat": 4,
  "nbformat_minor": 0,
  "metadata": {
    "colab": {
      "provenance": []
    },
    "kernelspec": {
      "name": "python3",
      "display_name": "Python 3"
    },
    "language_info": {
      "name": "python"
    }
  },
  "cells": [
    {
      "cell_type": "markdown",
      "source": [
        "# Credit Card Approval\n",
        "\n",
        "Data Set Link : https://www.kaggle.com/datasets/samuelcortinhas/credit-card-approval-clean-data\n",
        "\n",
        "Github Link : https://github.com/hasnainzahid/Machine_Learning\n",
        "\n",
        "On a day to day basics there are high number of credit card applications recieved by the bank. Going through the applications manually is a tedious time consuming and prone to errors.The task can be automated by usning machine Learning to procedit if the application willl be approved or not.\n",
        "\n",
        "The Dataset contains the following features:\n",
        "Age Gender Income Education Marital Status Credit History Employment Status Debt Number of Dependents Approved\n",
        "\n",
        "\n",
        "\n",
        "\n"
      ],
      "metadata": {
        "id": "lfoq4dIxtRW6"
      }
    },
    {
      "cell_type": "markdown",
      "source": [
        "# Import Necessary Libraries\n",
        "\n",
        "# Load the Dataset\n",
        "\n",
        "# Data Preprocessing:\n",
        "A. Split the dataset into training and test sets.#\n",
        "B. Explore the training dataset to understand its structure and characteristics.\n",
        "C. Split the features and the target label (e.g., 'Approved') from the training and test datasets.\n",
        "\n",
        "# Feature Engineering:\n",
        "A. Encode categorical features using techniques like one-hot encoding.\n",
        "B. Normalize the features, especially numerical ones, to ensure they are on a similar scale.\n",
        "\n",
        "# Model Selection and Hyperparameter Tuning:\n",
        "A. Choose machine learning models suitable for the classification task (e.g., Logistic Regression, Decision Tree, Random Forest, KNN, SVM).\n",
        "B. Perform hyperparameter tuning for each selected model to find the best set of hyperparameters.\n",
        "\n",
        "# Model Training and Evaluation:\n",
        "A. Train the models with the training data.\n",
        "B. Evaluate the models using appropriate evaluation metrics like accuracy, precision, recall, F1-score, and confusion matrix.\n",
        "C. Select the best-performing model (e.g., Random Forest) based on the evaluation results.\n",
        "\n",
        "# Testing the Best Model:\n",
        "Test the selected best model on the test dataset and calculate and display the accuracy, precision, recall, F1-score, and confusion matrix to assess its performance.\n",
        "\n",
        "\n",
        "\n"
      ],
      "metadata": {
        "id": "KLH2swrCQvim"
      }
    },
    {
      "cell_type": "markdown",
      "source": [
        "# Libraries"
      ],
      "metadata": {
        "id": "4m1S_XhKtYxD"
      }
    },
    {
      "cell_type": "code",
      "source": [
        "import pandas as pd\n",
        "import numpy as np\n",
        "import sklearn.preprocessing\n",
        "import sklearn.metrics\n",
        "from scipy import sparse\n",
        "from sklearn.preprocessing import LabelEncoder, OneHotEncoder,StandardScaler\n",
        "from sklearn.model_selection import GridSearchCV as GSCV\n",
        "from sklearn.model_selection import train_test_split as TTS\n",
        "from sklearn.ensemble import RandomForestClassifier as RF\n",
        "from sklearn.neighbors import KNeighborsClassifier as KNN\n",
        "from sklearn.linear_model import LogisticRegression as LR\n",
        "from sklearn.tree import DecisionTreeClassifier as DT\n",
        "from sklearn import svm\n",
        "from urllib.request import urlretrieve"
      ],
      "metadata": {
        "id": "LNtKb9T8tasP"
      },
      "execution_count": null,
      "outputs": []
    },
    {
      "cell_type": "markdown",
      "source": [
        "# Load CSV File"
      ],
      "metadata": {
        "id": "b8mHi6bltc4f"
      }
    },
    {
      "cell_type": "code",
      "source": [
        "urlretrieve(\"https://raw.githubusercontent.com/hasnainzahid/Machine_Learning/main/Credit%20Card%20Approval.csv\", filename=\"credit_card_approval.csv\")\n",
        "credit_card_data = pd.read_csv(\"credit_card_approval.csv\")\n",
        "\n",
        "credit_card_data.head()"
      ],
      "metadata": {
        "colab": {
          "base_uri": "https://localhost:8080/",
          "height": 226
        },
        "id": "jOIPeRDWtf1n",
        "outputId": "2e535032-da26-46b4-f7b2-e3dd8335a402"
      },
      "execution_count": null,
      "outputs": [
        {
          "output_type": "execute_result",
          "data": {
            "text/plain": [
              "   Gender    Age   Debt  Married  BankCustomer     Industry Ethnicity  \\\n",
              "0       1  30.83  0.000        1             1  Industrials     White   \n",
              "1       0  58.67  4.460        1             1    Materials     Black   \n",
              "2       0  24.50  0.500        1             1    Materials     Black   \n",
              "3       1  27.83  1.540        1             1  Industrials     White   \n",
              "4       1  20.17  5.625        1             1  Industrials     White   \n",
              "\n",
              "   YearsEmployed  PriorDefault  Employed  CreditScore  DriversLicense  \\\n",
              "0           1.25             1         1            1               0   \n",
              "1           3.04             1         1            6               0   \n",
              "2           1.50             1         0            0               0   \n",
              "3           3.75             1         1            5               1   \n",
              "4           1.71             1         0            0               0   \n",
              "\n",
              "        Citizen  ZipCode  Income  Approved  \n",
              "0       ByBirth      202       0         1  \n",
              "1       ByBirth       43     560         1  \n",
              "2       ByBirth      280     824         1  \n",
              "3       ByBirth      100       3         1  \n",
              "4  ByOtherMeans      120       0         1  "
            ],
            "text/html": [
              "\n",
              "  <div id=\"df-2cb8a5bc-7a52-4f43-bc5f-f3a65e22f66e\" class=\"colab-df-container\">\n",
              "    <div>\n",
              "<style scoped>\n",
              "    .dataframe tbody tr th:only-of-type {\n",
              "        vertical-align: middle;\n",
              "    }\n",
              "\n",
              "    .dataframe tbody tr th {\n",
              "        vertical-align: top;\n",
              "    }\n",
              "\n",
              "    .dataframe thead th {\n",
              "        text-align: right;\n",
              "    }\n",
              "</style>\n",
              "<table border=\"1\" class=\"dataframe\">\n",
              "  <thead>\n",
              "    <tr style=\"text-align: right;\">\n",
              "      <th></th>\n",
              "      <th>Gender</th>\n",
              "      <th>Age</th>\n",
              "      <th>Debt</th>\n",
              "      <th>Married</th>\n",
              "      <th>BankCustomer</th>\n",
              "      <th>Industry</th>\n",
              "      <th>Ethnicity</th>\n",
              "      <th>YearsEmployed</th>\n",
              "      <th>PriorDefault</th>\n",
              "      <th>Employed</th>\n",
              "      <th>CreditScore</th>\n",
              "      <th>DriversLicense</th>\n",
              "      <th>Citizen</th>\n",
              "      <th>ZipCode</th>\n",
              "      <th>Income</th>\n",
              "      <th>Approved</th>\n",
              "    </tr>\n",
              "  </thead>\n",
              "  <tbody>\n",
              "    <tr>\n",
              "      <th>0</th>\n",
              "      <td>1</td>\n",
              "      <td>30.83</td>\n",
              "      <td>0.000</td>\n",
              "      <td>1</td>\n",
              "      <td>1</td>\n",
              "      <td>Industrials</td>\n",
              "      <td>White</td>\n",
              "      <td>1.25</td>\n",
              "      <td>1</td>\n",
              "      <td>1</td>\n",
              "      <td>1</td>\n",
              "      <td>0</td>\n",
              "      <td>ByBirth</td>\n",
              "      <td>202</td>\n",
              "      <td>0</td>\n",
              "      <td>1</td>\n",
              "    </tr>\n",
              "    <tr>\n",
              "      <th>1</th>\n",
              "      <td>0</td>\n",
              "      <td>58.67</td>\n",
              "      <td>4.460</td>\n",
              "      <td>1</td>\n",
              "      <td>1</td>\n",
              "      <td>Materials</td>\n",
              "      <td>Black</td>\n",
              "      <td>3.04</td>\n",
              "      <td>1</td>\n",
              "      <td>1</td>\n",
              "      <td>6</td>\n",
              "      <td>0</td>\n",
              "      <td>ByBirth</td>\n",
              "      <td>43</td>\n",
              "      <td>560</td>\n",
              "      <td>1</td>\n",
              "    </tr>\n",
              "    <tr>\n",
              "      <th>2</th>\n",
              "      <td>0</td>\n",
              "      <td>24.50</td>\n",
              "      <td>0.500</td>\n",
              "      <td>1</td>\n",
              "      <td>1</td>\n",
              "      <td>Materials</td>\n",
              "      <td>Black</td>\n",
              "      <td>1.50</td>\n",
              "      <td>1</td>\n",
              "      <td>0</td>\n",
              "      <td>0</td>\n",
              "      <td>0</td>\n",
              "      <td>ByBirth</td>\n",
              "      <td>280</td>\n",
              "      <td>824</td>\n",
              "      <td>1</td>\n",
              "    </tr>\n",
              "    <tr>\n",
              "      <th>3</th>\n",
              "      <td>1</td>\n",
              "      <td>27.83</td>\n",
              "      <td>1.540</td>\n",
              "      <td>1</td>\n",
              "      <td>1</td>\n",
              "      <td>Industrials</td>\n",
              "      <td>White</td>\n",
              "      <td>3.75</td>\n",
              "      <td>1</td>\n",
              "      <td>1</td>\n",
              "      <td>5</td>\n",
              "      <td>1</td>\n",
              "      <td>ByBirth</td>\n",
              "      <td>100</td>\n",
              "      <td>3</td>\n",
              "      <td>1</td>\n",
              "    </tr>\n",
              "    <tr>\n",
              "      <th>4</th>\n",
              "      <td>1</td>\n",
              "      <td>20.17</td>\n",
              "      <td>5.625</td>\n",
              "      <td>1</td>\n",
              "      <td>1</td>\n",
              "      <td>Industrials</td>\n",
              "      <td>White</td>\n",
              "      <td>1.71</td>\n",
              "      <td>1</td>\n",
              "      <td>0</td>\n",
              "      <td>0</td>\n",
              "      <td>0</td>\n",
              "      <td>ByOtherMeans</td>\n",
              "      <td>120</td>\n",
              "      <td>0</td>\n",
              "      <td>1</td>\n",
              "    </tr>\n",
              "  </tbody>\n",
              "</table>\n",
              "</div>\n",
              "    <div class=\"colab-df-buttons\">\n",
              "\n",
              "  <div class=\"colab-df-container\">\n",
              "    <button class=\"colab-df-convert\" onclick=\"convertToInteractive('df-2cb8a5bc-7a52-4f43-bc5f-f3a65e22f66e')\"\n",
              "            title=\"Convert this dataframe to an interactive table.\"\n",
              "            style=\"display:none;\">\n",
              "\n",
              "  <svg xmlns=\"http://www.w3.org/2000/svg\" height=\"24px\" viewBox=\"0 -960 960 960\">\n",
              "    <path d=\"M120-120v-720h720v720H120Zm60-500h600v-160H180v160Zm220 220h160v-160H400v160Zm0 220h160v-160H400v160ZM180-400h160v-160H180v160Zm440 0h160v-160H620v160ZM180-180h160v-160H180v160Zm440 0h160v-160H620v160Z\"/>\n",
              "  </svg>\n",
              "    </button>\n",
              "\n",
              "  <style>\n",
              "    .colab-df-container {\n",
              "      display:flex;\n",
              "      gap: 12px;\n",
              "    }\n",
              "\n",
              "    .colab-df-convert {\n",
              "      background-color: #E8F0FE;\n",
              "      border: none;\n",
              "      border-radius: 50%;\n",
              "      cursor: pointer;\n",
              "      display: none;\n",
              "      fill: #1967D2;\n",
              "      height: 32px;\n",
              "      padding: 0 0 0 0;\n",
              "      width: 32px;\n",
              "    }\n",
              "\n",
              "    .colab-df-convert:hover {\n",
              "      background-color: #E2EBFA;\n",
              "      box-shadow: 0px 1px 2px rgba(60, 64, 67, 0.3), 0px 1px 3px 1px rgba(60, 64, 67, 0.15);\n",
              "      fill: #174EA6;\n",
              "    }\n",
              "\n",
              "    .colab-df-buttons div {\n",
              "      margin-bottom: 4px;\n",
              "    }\n",
              "\n",
              "    [theme=dark] .colab-df-convert {\n",
              "      background-color: #3B4455;\n",
              "      fill: #D2E3FC;\n",
              "    }\n",
              "\n",
              "    [theme=dark] .colab-df-convert:hover {\n",
              "      background-color: #434B5C;\n",
              "      box-shadow: 0px 1px 3px 1px rgba(0, 0, 0, 0.15);\n",
              "      filter: drop-shadow(0px 1px 2px rgba(0, 0, 0, 0.3));\n",
              "      fill: #FFFFFF;\n",
              "    }\n",
              "  </style>\n",
              "\n",
              "    <script>\n",
              "      const buttonEl =\n",
              "        document.querySelector('#df-2cb8a5bc-7a52-4f43-bc5f-f3a65e22f66e button.colab-df-convert');\n",
              "      buttonEl.style.display =\n",
              "        google.colab.kernel.accessAllowed ? 'block' : 'none';\n",
              "\n",
              "      async function convertToInteractive(key) {\n",
              "        const element = document.querySelector('#df-2cb8a5bc-7a52-4f43-bc5f-f3a65e22f66e');\n",
              "        const dataTable =\n",
              "          await google.colab.kernel.invokeFunction('convertToInteractive',\n",
              "                                                    [key], {});\n",
              "        if (!dataTable) return;\n",
              "\n",
              "        const docLinkHtml = 'Like what you see? Visit the ' +\n",
              "          '<a target=\"_blank\" href=https://colab.research.google.com/notebooks/data_table.ipynb>data table notebook</a>'\n",
              "          + ' to learn more about interactive tables.';\n",
              "        element.innerHTML = '';\n",
              "        dataTable['output_type'] = 'display_data';\n",
              "        await google.colab.output.renderOutput(dataTable, element);\n",
              "        const docLink = document.createElement('div');\n",
              "        docLink.innerHTML = docLinkHtml;\n",
              "        element.appendChild(docLink);\n",
              "      }\n",
              "    </script>\n",
              "  </div>\n",
              "\n",
              "\n",
              "<div id=\"df-f22c939d-06a3-452f-9a19-4fb7a07a1ab0\">\n",
              "  <button class=\"colab-df-quickchart\" onclick=\"quickchart('df-f22c939d-06a3-452f-9a19-4fb7a07a1ab0')\"\n",
              "            title=\"Suggest charts.\"\n",
              "            style=\"display:none;\">\n",
              "\n",
              "<svg xmlns=\"http://www.w3.org/2000/svg\" height=\"24px\"viewBox=\"0 0 24 24\"\n",
              "     width=\"24px\">\n",
              "    <g>\n",
              "        <path d=\"M19 3H5c-1.1 0-2 .9-2 2v14c0 1.1.9 2 2 2h14c1.1 0 2-.9 2-2V5c0-1.1-.9-2-2-2zM9 17H7v-7h2v7zm4 0h-2V7h2v10zm4 0h-2v-4h2v4z\"/>\n",
              "    </g>\n",
              "</svg>\n",
              "  </button>\n",
              "\n",
              "<style>\n",
              "  .colab-df-quickchart {\n",
              "      --bg-color: #E8F0FE;\n",
              "      --fill-color: #1967D2;\n",
              "      --hover-bg-color: #E2EBFA;\n",
              "      --hover-fill-color: #174EA6;\n",
              "      --disabled-fill-color: #AAA;\n",
              "      --disabled-bg-color: #DDD;\n",
              "  }\n",
              "\n",
              "  [theme=dark] .colab-df-quickchart {\n",
              "      --bg-color: #3B4455;\n",
              "      --fill-color: #D2E3FC;\n",
              "      --hover-bg-color: #434B5C;\n",
              "      --hover-fill-color: #FFFFFF;\n",
              "      --disabled-bg-color: #3B4455;\n",
              "      --disabled-fill-color: #666;\n",
              "  }\n",
              "\n",
              "  .colab-df-quickchart {\n",
              "    background-color: var(--bg-color);\n",
              "    border: none;\n",
              "    border-radius: 50%;\n",
              "    cursor: pointer;\n",
              "    display: none;\n",
              "    fill: var(--fill-color);\n",
              "    height: 32px;\n",
              "    padding: 0;\n",
              "    width: 32px;\n",
              "  }\n",
              "\n",
              "  .colab-df-quickchart:hover {\n",
              "    background-color: var(--hover-bg-color);\n",
              "    box-shadow: 0 1px 2px rgba(60, 64, 67, 0.3), 0 1px 3px 1px rgba(60, 64, 67, 0.15);\n",
              "    fill: var(--button-hover-fill-color);\n",
              "  }\n",
              "\n",
              "  .colab-df-quickchart-complete:disabled,\n",
              "  .colab-df-quickchart-complete:disabled:hover {\n",
              "    background-color: var(--disabled-bg-color);\n",
              "    fill: var(--disabled-fill-color);\n",
              "    box-shadow: none;\n",
              "  }\n",
              "\n",
              "  .colab-df-spinner {\n",
              "    border: 2px solid var(--fill-color);\n",
              "    border-color: transparent;\n",
              "    border-bottom-color: var(--fill-color);\n",
              "    animation:\n",
              "      spin 1s steps(1) infinite;\n",
              "  }\n",
              "\n",
              "  @keyframes spin {\n",
              "    0% {\n",
              "      border-color: transparent;\n",
              "      border-bottom-color: var(--fill-color);\n",
              "      border-left-color: var(--fill-color);\n",
              "    }\n",
              "    20% {\n",
              "      border-color: transparent;\n",
              "      border-left-color: var(--fill-color);\n",
              "      border-top-color: var(--fill-color);\n",
              "    }\n",
              "    30% {\n",
              "      border-color: transparent;\n",
              "      border-left-color: var(--fill-color);\n",
              "      border-top-color: var(--fill-color);\n",
              "      border-right-color: var(--fill-color);\n",
              "    }\n",
              "    40% {\n",
              "      border-color: transparent;\n",
              "      border-right-color: var(--fill-color);\n",
              "      border-top-color: var(--fill-color);\n",
              "    }\n",
              "    60% {\n",
              "      border-color: transparent;\n",
              "      border-right-color: var(--fill-color);\n",
              "    }\n",
              "    80% {\n",
              "      border-color: transparent;\n",
              "      border-right-color: var(--fill-color);\n",
              "      border-bottom-color: var(--fill-color);\n",
              "    }\n",
              "    90% {\n",
              "      border-color: transparent;\n",
              "      border-bottom-color: var(--fill-color);\n",
              "    }\n",
              "  }\n",
              "</style>\n",
              "\n",
              "  <script>\n",
              "    async function quickchart(key) {\n",
              "      const quickchartButtonEl =\n",
              "        document.querySelector('#' + key + ' button');\n",
              "      quickchartButtonEl.disabled = true;  // To prevent multiple clicks.\n",
              "      quickchartButtonEl.classList.add('colab-df-spinner');\n",
              "      try {\n",
              "        const charts = await google.colab.kernel.invokeFunction(\n",
              "            'suggestCharts', [key], {});\n",
              "      } catch (error) {\n",
              "        console.error('Error during call to suggestCharts:', error);\n",
              "      }\n",
              "      quickchartButtonEl.classList.remove('colab-df-spinner');\n",
              "      quickchartButtonEl.classList.add('colab-df-quickchart-complete');\n",
              "    }\n",
              "    (() => {\n",
              "      let quickchartButtonEl =\n",
              "        document.querySelector('#df-f22c939d-06a3-452f-9a19-4fb7a07a1ab0 button');\n",
              "      quickchartButtonEl.style.display =\n",
              "        google.colab.kernel.accessAllowed ? 'block' : 'none';\n",
              "    })();\n",
              "  </script>\n",
              "</div>\n",
              "    </div>\n",
              "  </div>\n"
            ]
          },
          "metadata": {},
          "execution_count": 2
        }
      ]
    },
    {
      "cell_type": "markdown",
      "source": [
        "In the code above,the necessary libraries and load the dataset from a given URL. First few rows have been displayed from the dataset get a look of its structure.\n",
        "\n",
        "The dataset is downloaded from the provided URL and loaded into a panda Data Frame. The for a quick overview of the data is displayed uning credit_card_data.head()"
      ],
      "metadata": {
        "id": "7-CRbG6tRfij"
      }
    },
    {
      "cell_type": "markdown",
      "source": [
        "# Spilitting the Dataset"
      ],
      "metadata": {
        "id": "Fhic4hU9RPQ0"
      }
    },
    {
      "cell_type": "code",
      "source": [
        "training_data, testing_data = TTS(credit_card_data)\n",
        "\n",
        "display(\"Total Size\", credit_card_data.shape)\n",
        "display('Training Size', training_data.shape)\n",
        "display(\"Testing Size\", testing_data.shape)"
      ],
      "metadata": {
        "id": "1C8-ILu0Jn-h",
        "colab": {
          "base_uri": "https://localhost:8080/",
          "height": 124
        },
        "outputId": "6f33e5a6-9315-4d54-dd2c-656846b50f2d"
      },
      "execution_count": null,
      "outputs": [
        {
          "output_type": "display_data",
          "data": {
            "text/plain": [
              "'Total Size'"
            ],
            "application/vnd.google.colaboratory.intrinsic+json": {
              "type": "string"
            }
          },
          "metadata": {}
        },
        {
          "output_type": "display_data",
          "data": {
            "text/plain": [
              "(690, 16)"
            ]
          },
          "metadata": {}
        },
        {
          "output_type": "display_data",
          "data": {
            "text/plain": [
              "'Training Size'"
            ],
            "application/vnd.google.colaboratory.intrinsic+json": {
              "type": "string"
            }
          },
          "metadata": {}
        },
        {
          "output_type": "display_data",
          "data": {
            "text/plain": [
              "(517, 16)"
            ]
          },
          "metadata": {}
        },
        {
          "output_type": "display_data",
          "data": {
            "text/plain": [
              "'Testing Size'"
            ],
            "application/vnd.google.colaboratory.intrinsic+json": {
              "type": "string"
            }
          },
          "metadata": {}
        },
        {
          "output_type": "display_data",
          "data": {
            "text/plain": [
              "(173, 16)"
            ]
          },
          "metadata": {}
        }
      ]
    },
    {
      "cell_type": "markdown",
      "source": [
        "Here, we split the dataset into training and test sets using the train_test_split function from scikit-learn. This allows us to have separate datasets for training and evaluating the models"
      ],
      "metadata": {
        "id": "QsjX48zgS_28"
      }
    },
    {
      "cell_type": "markdown",
      "source": [
        "# Data Exploration"
      ],
      "metadata": {
        "id": "bUR36U13Rck-"
      }
    },
    {
      "cell_type": "code",
      "source": [
        "training_data.isnull().sum()"
      ],
      "metadata": {
        "id": "_-PaGpMoHulz",
        "colab": {
          "base_uri": "https://localhost:8080/"
        },
        "outputId": "c70a1a8b-b853-477e-a478-aa1dffdec417"
      },
      "execution_count": null,
      "outputs": [
        {
          "output_type": "execute_result",
          "data": {
            "text/plain": [
              "Gender            0\n",
              "Age               0\n",
              "Debt              0\n",
              "Married           0\n",
              "BankCustomer      0\n",
              "Industry          0\n",
              "Ethnicity         0\n",
              "YearsEmployed     0\n",
              "PriorDefault      0\n",
              "Employed          0\n",
              "CreditScore       0\n",
              "DriversLicense    0\n",
              "Citizen           0\n",
              "ZipCode           0\n",
              "Income            0\n",
              "Approved          0\n",
              "dtype: int64"
            ]
          },
          "metadata": {},
          "execution_count": 4
        }
      ]
    },
    {
      "cell_type": "markdown",
      "source": [
        "Check for missing values"
      ],
      "metadata": {
        "id": "IzkTyC51WbmY"
      }
    },
    {
      "cell_type": "code",
      "source": [
        "training_data[\"Industry\"].unique()"
      ],
      "metadata": {
        "colab": {
          "base_uri": "https://localhost:8080/"
        },
        "id": "1NuJfGN2Wdzo",
        "outputId": "4c97e041-2b5a-48f1-e028-35c6e17004b9"
      },
      "execution_count": null,
      "outputs": [
        {
          "output_type": "execute_result",
          "data": {
            "text/plain": [
              "array(['Energy', 'ConsumerStaples', 'Real Estate', 'Industrials',\n",
              "       'InformationTechnology', 'Research', 'Healthcare', 'Education',\n",
              "       'ConsumerDiscretionary', 'CommunicationServices', 'Utilities',\n",
              "       'Materials', 'Financials', 'Transport'], dtype=object)"
            ]
          },
          "metadata": {},
          "execution_count": 5
        }
      ]
    },
    {
      "cell_type": "markdown",
      "source": [
        "check for unique values"
      ],
      "metadata": {
        "id": "ar8QIElsWdzp"
      }
    },
    {
      "cell_type": "code",
      "source": [
        "training_data[\"Approved\"].value_counts()"
      ],
      "metadata": {
        "id": "Ll2fulMUHw60",
        "colab": {
          "base_uri": "https://localhost:8080/"
        },
        "outputId": "71f6bc22-517c-4c0d-db2e-e563c7c95efc"
      },
      "execution_count": null,
      "outputs": [
        {
          "output_type": "execute_result",
          "data": {
            "text/plain": [
              "0    287\n",
              "1    230\n",
              "Name: Approved, dtype: int64"
            ]
          },
          "metadata": {},
          "execution_count": 6
        }
      ]
    },
    {
      "cell_type": "markdown",
      "source": [
        "count the occurance of values in approved column"
      ],
      "metadata": {
        "id": "VX-cf84uWjpS"
      }
    },
    {
      "cell_type": "markdown",
      "source": [
        "In this part, we perform some basic data exploration. We check for missing values, unique values in a categorical column, and count occurrences of different values in the target variable 'Approved'."
      ],
      "metadata": {
        "id": "9YH_JWeSUj5J"
      }
    },
    {
      "cell_type": "markdown",
      "source": [
        "# Data Preprocessing"
      ],
      "metadata": {
        "id": "LQmYsobrWAXw"
      }
    },
    {
      "cell_type": "markdown",
      "source": [
        "## Splitting Features and Traget Label"
      ],
      "metadata": {
        "id": "WZATcg22aGmA"
      }
    },
    {
      "cell_type": "code",
      "source": [
        "\n",
        "x_training_data = training_data.drop(\"Approved\", axis=1)\n",
        "y_training_data = training_data[\"Approved\"]\n",
        "\n",
        "\n",
        "x_testing_data = testing_data.drop(\"Approved\", axis=1)\n",
        "y_testing_data = testing_data[\"Approved\"]\n",
        "\n",
        "\n",
        "display(\"Training Size:\", x_training_data.shape)\n",
        "display(\"Testing Size:\", x_testing_data.shape)"
      ],
      "metadata": {
        "colab": {
          "base_uri": "https://localhost:8080/",
          "height": 88
        },
        "id": "jeT773PAaIeN",
        "outputId": "0f106a53-331e-4d67-ada8-d435b1288f2b"
      },
      "execution_count": null,
      "outputs": [
        {
          "output_type": "display_data",
          "data": {
            "text/plain": [
              "'Training Size:'"
            ],
            "application/vnd.google.colaboratory.intrinsic+json": {
              "type": "string"
            }
          },
          "metadata": {}
        },
        {
          "output_type": "display_data",
          "data": {
            "text/plain": [
              "(517, 15)"
            ]
          },
          "metadata": {}
        },
        {
          "output_type": "display_data",
          "data": {
            "text/plain": [
              "'Testing Size:'"
            ],
            "application/vnd.google.colaboratory.intrinsic+json": {
              "type": "string"
            }
          },
          "metadata": {}
        },
        {
          "output_type": "display_data",
          "data": {
            "text/plain": [
              "(173, 15)"
            ]
          },
          "metadata": {}
        }
      ]
    },
    {
      "cell_type": "code",
      "source": [
        "x_training_data.head()"
      ],
      "metadata": {
        "colab": {
          "base_uri": "https://localhost:8080/",
          "height": 226
        },
        "id": "8kAGWo1kJ_Li",
        "outputId": "08bb5182-3583-4049-9024-ccc9adf86073"
      },
      "execution_count": null,
      "outputs": [
        {
          "output_type": "execute_result",
          "data": {
            "text/plain": [
              "     Gender    Age    Debt  Married  BankCustomer         Industry Ethnicity  \\\n",
              "498       1  25.75   0.500        1             1           Energy     White   \n",
              "355       0  16.00   0.165        1             1  ConsumerStaples     White   \n",
              "418       1  38.42   0.705        1             1           Energy     White   \n",
              "61        1  31.67  16.165        1             1      Real Estate     White   \n",
              "517       1  16.08   0.750        1             1           Energy     White   \n",
              "\n",
              "     YearsEmployed  PriorDefault  Employed  CreditScore  DriversLicense  \\\n",
              "498          1.460             1         1            5               1   \n",
              "355          1.000             0         1            2               1   \n",
              "418          0.375             0         1            2               0   \n",
              "61           3.000             1         1            9               0   \n",
              "517          1.750             1         1            5               1   \n",
              "\n",
              "     Citizen  ZipCode  Income  \n",
              "498  ByBirth      312       0  \n",
              "355  ByBirth      320       1  \n",
              "418  ByBirth      225     500  \n",
              "61   ByBirth      250     730  \n",
              "517  ByBirth      352     690  "
            ],
            "text/html": [
              "\n",
              "  <div id=\"df-4f666921-4086-4158-aeee-229b3251d3e2\" class=\"colab-df-container\">\n",
              "    <div>\n",
              "<style scoped>\n",
              "    .dataframe tbody tr th:only-of-type {\n",
              "        vertical-align: middle;\n",
              "    }\n",
              "\n",
              "    .dataframe tbody tr th {\n",
              "        vertical-align: top;\n",
              "    }\n",
              "\n",
              "    .dataframe thead th {\n",
              "        text-align: right;\n",
              "    }\n",
              "</style>\n",
              "<table border=\"1\" class=\"dataframe\">\n",
              "  <thead>\n",
              "    <tr style=\"text-align: right;\">\n",
              "      <th></th>\n",
              "      <th>Gender</th>\n",
              "      <th>Age</th>\n",
              "      <th>Debt</th>\n",
              "      <th>Married</th>\n",
              "      <th>BankCustomer</th>\n",
              "      <th>Industry</th>\n",
              "      <th>Ethnicity</th>\n",
              "      <th>YearsEmployed</th>\n",
              "      <th>PriorDefault</th>\n",
              "      <th>Employed</th>\n",
              "      <th>CreditScore</th>\n",
              "      <th>DriversLicense</th>\n",
              "      <th>Citizen</th>\n",
              "      <th>ZipCode</th>\n",
              "      <th>Income</th>\n",
              "    </tr>\n",
              "  </thead>\n",
              "  <tbody>\n",
              "    <tr>\n",
              "      <th>498</th>\n",
              "      <td>1</td>\n",
              "      <td>25.75</td>\n",
              "      <td>0.500</td>\n",
              "      <td>1</td>\n",
              "      <td>1</td>\n",
              "      <td>Energy</td>\n",
              "      <td>White</td>\n",
              "      <td>1.460</td>\n",
              "      <td>1</td>\n",
              "      <td>1</td>\n",
              "      <td>5</td>\n",
              "      <td>1</td>\n",
              "      <td>ByBirth</td>\n",
              "      <td>312</td>\n",
              "      <td>0</td>\n",
              "    </tr>\n",
              "    <tr>\n",
              "      <th>355</th>\n",
              "      <td>0</td>\n",
              "      <td>16.00</td>\n",
              "      <td>0.165</td>\n",
              "      <td>1</td>\n",
              "      <td>1</td>\n",
              "      <td>ConsumerStaples</td>\n",
              "      <td>White</td>\n",
              "      <td>1.000</td>\n",
              "      <td>0</td>\n",
              "      <td>1</td>\n",
              "      <td>2</td>\n",
              "      <td>1</td>\n",
              "      <td>ByBirth</td>\n",
              "      <td>320</td>\n",
              "      <td>1</td>\n",
              "    </tr>\n",
              "    <tr>\n",
              "      <th>418</th>\n",
              "      <td>1</td>\n",
              "      <td>38.42</td>\n",
              "      <td>0.705</td>\n",
              "      <td>1</td>\n",
              "      <td>1</td>\n",
              "      <td>Energy</td>\n",
              "      <td>White</td>\n",
              "      <td>0.375</td>\n",
              "      <td>0</td>\n",
              "      <td>1</td>\n",
              "      <td>2</td>\n",
              "      <td>0</td>\n",
              "      <td>ByBirth</td>\n",
              "      <td>225</td>\n",
              "      <td>500</td>\n",
              "    </tr>\n",
              "    <tr>\n",
              "      <th>61</th>\n",
              "      <td>1</td>\n",
              "      <td>31.67</td>\n",
              "      <td>16.165</td>\n",
              "      <td>1</td>\n",
              "      <td>1</td>\n",
              "      <td>Real Estate</td>\n",
              "      <td>White</td>\n",
              "      <td>3.000</td>\n",
              "      <td>1</td>\n",
              "      <td>1</td>\n",
              "      <td>9</td>\n",
              "      <td>0</td>\n",
              "      <td>ByBirth</td>\n",
              "      <td>250</td>\n",
              "      <td>730</td>\n",
              "    </tr>\n",
              "    <tr>\n",
              "      <th>517</th>\n",
              "      <td>1</td>\n",
              "      <td>16.08</td>\n",
              "      <td>0.750</td>\n",
              "      <td>1</td>\n",
              "      <td>1</td>\n",
              "      <td>Energy</td>\n",
              "      <td>White</td>\n",
              "      <td>1.750</td>\n",
              "      <td>1</td>\n",
              "      <td>1</td>\n",
              "      <td>5</td>\n",
              "      <td>1</td>\n",
              "      <td>ByBirth</td>\n",
              "      <td>352</td>\n",
              "      <td>690</td>\n",
              "    </tr>\n",
              "  </tbody>\n",
              "</table>\n",
              "</div>\n",
              "    <div class=\"colab-df-buttons\">\n",
              "\n",
              "  <div class=\"colab-df-container\">\n",
              "    <button class=\"colab-df-convert\" onclick=\"convertToInteractive('df-4f666921-4086-4158-aeee-229b3251d3e2')\"\n",
              "            title=\"Convert this dataframe to an interactive table.\"\n",
              "            style=\"display:none;\">\n",
              "\n",
              "  <svg xmlns=\"http://www.w3.org/2000/svg\" height=\"24px\" viewBox=\"0 -960 960 960\">\n",
              "    <path d=\"M120-120v-720h720v720H120Zm60-500h600v-160H180v160Zm220 220h160v-160H400v160Zm0 220h160v-160H400v160ZM180-400h160v-160H180v160Zm440 0h160v-160H620v160ZM180-180h160v-160H180v160Zm440 0h160v-160H620v160Z\"/>\n",
              "  </svg>\n",
              "    </button>\n",
              "\n",
              "  <style>\n",
              "    .colab-df-container {\n",
              "      display:flex;\n",
              "      gap: 12px;\n",
              "    }\n",
              "\n",
              "    .colab-df-convert {\n",
              "      background-color: #E8F0FE;\n",
              "      border: none;\n",
              "      border-radius: 50%;\n",
              "      cursor: pointer;\n",
              "      display: none;\n",
              "      fill: #1967D2;\n",
              "      height: 32px;\n",
              "      padding: 0 0 0 0;\n",
              "      width: 32px;\n",
              "    }\n",
              "\n",
              "    .colab-df-convert:hover {\n",
              "      background-color: #E2EBFA;\n",
              "      box-shadow: 0px 1px 2px rgba(60, 64, 67, 0.3), 0px 1px 3px 1px rgba(60, 64, 67, 0.15);\n",
              "      fill: #174EA6;\n",
              "    }\n",
              "\n",
              "    .colab-df-buttons div {\n",
              "      margin-bottom: 4px;\n",
              "    }\n",
              "\n",
              "    [theme=dark] .colab-df-convert {\n",
              "      background-color: #3B4455;\n",
              "      fill: #D2E3FC;\n",
              "    }\n",
              "\n",
              "    [theme=dark] .colab-df-convert:hover {\n",
              "      background-color: #434B5C;\n",
              "      box-shadow: 0px 1px 3px 1px rgba(0, 0, 0, 0.15);\n",
              "      filter: drop-shadow(0px 1px 2px rgba(0, 0, 0, 0.3));\n",
              "      fill: #FFFFFF;\n",
              "    }\n",
              "  </style>\n",
              "\n",
              "    <script>\n",
              "      const buttonEl =\n",
              "        document.querySelector('#df-4f666921-4086-4158-aeee-229b3251d3e2 button.colab-df-convert');\n",
              "      buttonEl.style.display =\n",
              "        google.colab.kernel.accessAllowed ? 'block' : 'none';\n",
              "\n",
              "      async function convertToInteractive(key) {\n",
              "        const element = document.querySelector('#df-4f666921-4086-4158-aeee-229b3251d3e2');\n",
              "        const dataTable =\n",
              "          await google.colab.kernel.invokeFunction('convertToInteractive',\n",
              "                                                    [key], {});\n",
              "        if (!dataTable) return;\n",
              "\n",
              "        const docLinkHtml = 'Like what you see? Visit the ' +\n",
              "          '<a target=\"_blank\" href=https://colab.research.google.com/notebooks/data_table.ipynb>data table notebook</a>'\n",
              "          + ' to learn more about interactive tables.';\n",
              "        element.innerHTML = '';\n",
              "        dataTable['output_type'] = 'display_data';\n",
              "        await google.colab.output.renderOutput(dataTable, element);\n",
              "        const docLink = document.createElement('div');\n",
              "        docLink.innerHTML = docLinkHtml;\n",
              "        element.appendChild(docLink);\n",
              "      }\n",
              "    </script>\n",
              "  </div>\n",
              "\n",
              "\n",
              "<div id=\"df-606d585a-3f93-4a82-91b8-37b72be234e8\">\n",
              "  <button class=\"colab-df-quickchart\" onclick=\"quickchart('df-606d585a-3f93-4a82-91b8-37b72be234e8')\"\n",
              "            title=\"Suggest charts.\"\n",
              "            style=\"display:none;\">\n",
              "\n",
              "<svg xmlns=\"http://www.w3.org/2000/svg\" height=\"24px\"viewBox=\"0 0 24 24\"\n",
              "     width=\"24px\">\n",
              "    <g>\n",
              "        <path d=\"M19 3H5c-1.1 0-2 .9-2 2v14c0 1.1.9 2 2 2h14c1.1 0 2-.9 2-2V5c0-1.1-.9-2-2-2zM9 17H7v-7h2v7zm4 0h-2V7h2v10zm4 0h-2v-4h2v4z\"/>\n",
              "    </g>\n",
              "</svg>\n",
              "  </button>\n",
              "\n",
              "<style>\n",
              "  .colab-df-quickchart {\n",
              "      --bg-color: #E8F0FE;\n",
              "      --fill-color: #1967D2;\n",
              "      --hover-bg-color: #E2EBFA;\n",
              "      --hover-fill-color: #174EA6;\n",
              "      --disabled-fill-color: #AAA;\n",
              "      --disabled-bg-color: #DDD;\n",
              "  }\n",
              "\n",
              "  [theme=dark] .colab-df-quickchart {\n",
              "      --bg-color: #3B4455;\n",
              "      --fill-color: #D2E3FC;\n",
              "      --hover-bg-color: #434B5C;\n",
              "      --hover-fill-color: #FFFFFF;\n",
              "      --disabled-bg-color: #3B4455;\n",
              "      --disabled-fill-color: #666;\n",
              "  }\n",
              "\n",
              "  .colab-df-quickchart {\n",
              "    background-color: var(--bg-color);\n",
              "    border: none;\n",
              "    border-radius: 50%;\n",
              "    cursor: pointer;\n",
              "    display: none;\n",
              "    fill: var(--fill-color);\n",
              "    height: 32px;\n",
              "    padding: 0;\n",
              "    width: 32px;\n",
              "  }\n",
              "\n",
              "  .colab-df-quickchart:hover {\n",
              "    background-color: var(--hover-bg-color);\n",
              "    box-shadow: 0 1px 2px rgba(60, 64, 67, 0.3), 0 1px 3px 1px rgba(60, 64, 67, 0.15);\n",
              "    fill: var(--button-hover-fill-color);\n",
              "  }\n",
              "\n",
              "  .colab-df-quickchart-complete:disabled,\n",
              "  .colab-df-quickchart-complete:disabled:hover {\n",
              "    background-color: var(--disabled-bg-color);\n",
              "    fill: var(--disabled-fill-color);\n",
              "    box-shadow: none;\n",
              "  }\n",
              "\n",
              "  .colab-df-spinner {\n",
              "    border: 2px solid var(--fill-color);\n",
              "    border-color: transparent;\n",
              "    border-bottom-color: var(--fill-color);\n",
              "    animation:\n",
              "      spin 1s steps(1) infinite;\n",
              "  }\n",
              "\n",
              "  @keyframes spin {\n",
              "    0% {\n",
              "      border-color: transparent;\n",
              "      border-bottom-color: var(--fill-color);\n",
              "      border-left-color: var(--fill-color);\n",
              "    }\n",
              "    20% {\n",
              "      border-color: transparent;\n",
              "      border-left-color: var(--fill-color);\n",
              "      border-top-color: var(--fill-color);\n",
              "    }\n",
              "    30% {\n",
              "      border-color: transparent;\n",
              "      border-left-color: var(--fill-color);\n",
              "      border-top-color: var(--fill-color);\n",
              "      border-right-color: var(--fill-color);\n",
              "    }\n",
              "    40% {\n",
              "      border-color: transparent;\n",
              "      border-right-color: var(--fill-color);\n",
              "      border-top-color: var(--fill-color);\n",
              "    }\n",
              "    60% {\n",
              "      border-color: transparent;\n",
              "      border-right-color: var(--fill-color);\n",
              "    }\n",
              "    80% {\n",
              "      border-color: transparent;\n",
              "      border-right-color: var(--fill-color);\n",
              "      border-bottom-color: var(--fill-color);\n",
              "    }\n",
              "    90% {\n",
              "      border-color: transparent;\n",
              "      border-bottom-color: var(--fill-color);\n",
              "    }\n",
              "  }\n",
              "</style>\n",
              "\n",
              "  <script>\n",
              "    async function quickchart(key) {\n",
              "      const quickchartButtonEl =\n",
              "        document.querySelector('#' + key + ' button');\n",
              "      quickchartButtonEl.disabled = true;  // To prevent multiple clicks.\n",
              "      quickchartButtonEl.classList.add('colab-df-spinner');\n",
              "      try {\n",
              "        const charts = await google.colab.kernel.invokeFunction(\n",
              "            'suggestCharts', [key], {});\n",
              "      } catch (error) {\n",
              "        console.error('Error during call to suggestCharts:', error);\n",
              "      }\n",
              "      quickchartButtonEl.classList.remove('colab-df-spinner');\n",
              "      quickchartButtonEl.classList.add('colab-df-quickchart-complete');\n",
              "    }\n",
              "    (() => {\n",
              "      let quickchartButtonEl =\n",
              "        document.querySelector('#df-606d585a-3f93-4a82-91b8-37b72be234e8 button');\n",
              "      quickchartButtonEl.style.display =\n",
              "        google.colab.kernel.accessAllowed ? 'block' : 'none';\n",
              "    })();\n",
              "  </script>\n",
              "</div>\n",
              "    </div>\n",
              "  </div>\n"
            ]
          },
          "metadata": {},
          "execution_count": 8
        }
      ]
    },
    {
      "cell_type": "markdown",
      "source": [
        "Here, we split the dataset into features (X_training_data) and the target label (y_training_data) for both the training and test sets. This separation is vital for training and evaluating the machine learning models."
      ],
      "metadata": {
        "id": "vakSFClfU2DD"
      }
    },
    {
      "cell_type": "markdown",
      "source": [
        "## Encoding"
      ],
      "metadata": {
        "id": "q_gIjs1Be_4Z"
      }
    },
    {
      "cell_type": "code",
      "source": [
        "# Convert to dense arrays if sparse\n",
        "x_training_data_dense = x_training_data.toarray() if sparse.issparse(x_training_data) else x_training_data\n",
        "x_testing_data_dense = x_testing_data.toarray() if sparse.issparse(x_testing_data) else x_testing_data\n",
        "\n",
        "# Convert to string (if needed)\n",
        "x_training_data_str = x_training_data_dense.astype(str)\n",
        "x_testing_data_str = x_testing_data_dense.astype(str)\n",
        "\n",
        "# Use the OneHotEncoder\n",
        "encoder = sklearn.preprocessing.OneHotEncoder(handle_unknown=\"ignore\")\n",
        "\n",
        "# Fit and transform the encoder\n",
        "x_training_data_encoded = encoder.fit_transform(x_training_data_str)\n",
        "x_testing_data_encoded = encoder.transform(x_testing_data_str)\n",
        "\n",
        "# Drop the original 'Approved' column from the encoded data)\n",
        "x_training_data_encoded = x_training_data_encoded[:, :-1]  # Drop the last column\n",
        "x_testing_data_encoded = x_testing_data_encoded[:, :-1]  # Drop the last column\n",
        "\n",
        "display(\"Training Data Size:\", x_training_data_encoded.shape)\n",
        "display(\"Testing Data Size:\", x_testing_data_encoded.shape)"
      ],
      "metadata": {
        "colab": {
          "base_uri": "https://localhost:8080/",
          "height": 88
        },
        "id": "6cj91rRyoqr3",
        "outputId": "ab47e6b7-f9d2-450a-aa8e-97125ad96962"
      },
      "execution_count": null,
      "outputs": [
        {
          "output_type": "display_data",
          "data": {
            "text/plain": [
              "'Training Data Size:'"
            ],
            "application/vnd.google.colaboratory.intrinsic+json": {
              "type": "string"
            }
          },
          "metadata": {}
        },
        {
          "output_type": "display_data",
          "data": {
            "text/plain": [
              "(517, 992)"
            ]
          },
          "metadata": {}
        },
        {
          "output_type": "display_data",
          "data": {
            "text/plain": [
              "'Testing Data Size:'"
            ],
            "application/vnd.google.colaboratory.intrinsic+json": {
              "type": "string"
            }
          },
          "metadata": {}
        },
        {
          "output_type": "display_data",
          "data": {
            "text/plain": [
              "(173, 992)"
            ]
          },
          "metadata": {}
        }
      ]
    },
    {
      "cell_type": "markdown",
      "source": [
        "## Combine With Numerical Features"
      ],
      "metadata": {
        "id": "cx_hLwSdp9eY"
      }
    },
    {
      "cell_type": "code",
      "source": [
        "# Get the numerical features\n",
        "numerical_features = [column for column in x_training_data.columns if pd.api.types.is_numeric_dtype(x_training_data[column])]\n",
        "\n",
        "# Convert numerical features to arrays\n",
        "x_training_numerical = x_training_data[numerical_features].values\n",
        "x_testing_numerical = x_testing_data[numerical_features].values\n",
        "\n",
        "# Combine the numerical and one-hot encoded features\n",
        "x_training_data_final = np.hstack((x_training_data_encoded.toarray(), x_training_numerical))\n",
        "x_testing_data_final = np.hstack((x_testing_data_encoded.toarray(), x_testing_numerical))\n",
        "\n",
        "x_training_data_final = pd.DataFrame(x_training_data_final)\n",
        "x_testing_data_final = pd.DataFrame(x_testing_data_final)\n",
        "\n",
        "\n",
        "display(\"Combined Training Data Size:\", x_training_data_final.shape)\n",
        "display(\"Combined Testing Data Size:\", x_testing_data_final.shape)\n"
      ],
      "metadata": {
        "colab": {
          "base_uri": "https://localhost:8080/",
          "height": 88
        },
        "id": "yXWp762vp4v1",
        "outputId": "32252f80-9832-46cb-ade8-c49062f9599f"
      },
      "execution_count": null,
      "outputs": [
        {
          "output_type": "display_data",
          "data": {
            "text/plain": [
              "'Combined Training Data Size:'"
            ],
            "application/vnd.google.colaboratory.intrinsic+json": {
              "type": "string"
            }
          },
          "metadata": {}
        },
        {
          "output_type": "display_data",
          "data": {
            "text/plain": [
              "(517, 1004)"
            ]
          },
          "metadata": {}
        },
        {
          "output_type": "display_data",
          "data": {
            "text/plain": [
              "'Combined Testing Data Size:'"
            ],
            "application/vnd.google.colaboratory.intrinsic+json": {
              "type": "string"
            }
          },
          "metadata": {}
        },
        {
          "output_type": "display_data",
          "data": {
            "text/plain": [
              "(173, 1004)"
            ]
          },
          "metadata": {}
        }
      ]
    },
    {
      "cell_type": "code",
      "source": [
        "display(x_training_data_final.head())"
      ],
      "metadata": {
        "colab": {
          "base_uri": "https://localhost:8080/",
          "height": 256
        },
        "id": "bACPaHS5rotX",
        "outputId": "11e42173-c133-4a74-f0ec-6549d651d9a7"
      },
      "execution_count": null,
      "outputs": [
        {
          "output_type": "display_data",
          "data": {
            "text/plain": [
              "   0     1     2     3     4     5     6     7     8     9     ...    994   \\\n",
              "0   0.0   1.0   0.0   0.0   0.0   0.0   0.0   0.0   0.0   0.0  ...   0.500   \n",
              "1   1.0   0.0   0.0   0.0   0.0   0.0   0.0   1.0   0.0   0.0  ...   0.165   \n",
              "2   0.0   1.0   0.0   0.0   0.0   0.0   0.0   0.0   0.0   0.0  ...   0.705   \n",
              "3   0.0   1.0   0.0   0.0   0.0   0.0   0.0   0.0   0.0   0.0  ...  16.165   \n",
              "4   0.0   1.0   0.0   0.0   0.0   0.0   0.0   0.0   1.0   0.0  ...   0.750   \n",
              "\n",
              "   995   996    997   998   999   1000  1001   1002   1003  \n",
              "0   1.0   1.0  1.460   1.0   1.0   5.0   1.0  312.0    0.0  \n",
              "1   1.0   1.0  1.000   0.0   1.0   2.0   1.0  320.0    1.0  \n",
              "2   1.0   1.0  0.375   0.0   1.0   2.0   0.0  225.0  500.0  \n",
              "3   1.0   1.0  3.000   1.0   1.0   9.0   0.0  250.0  730.0  \n",
              "4   1.0   1.0  1.750   1.0   1.0   5.0   1.0  352.0  690.0  \n",
              "\n",
              "[5 rows x 1004 columns]"
            ],
            "text/html": [
              "\n",
              "  <div id=\"df-967fcf13-8ce0-4758-8007-5d6ca9892bb9\" class=\"colab-df-container\">\n",
              "    <div>\n",
              "<style scoped>\n",
              "    .dataframe tbody tr th:only-of-type {\n",
              "        vertical-align: middle;\n",
              "    }\n",
              "\n",
              "    .dataframe tbody tr th {\n",
              "        vertical-align: top;\n",
              "    }\n",
              "\n",
              "    .dataframe thead th {\n",
              "        text-align: right;\n",
              "    }\n",
              "</style>\n",
              "<table border=\"1\" class=\"dataframe\">\n",
              "  <thead>\n",
              "    <tr style=\"text-align: right;\">\n",
              "      <th></th>\n",
              "      <th>0</th>\n",
              "      <th>1</th>\n",
              "      <th>2</th>\n",
              "      <th>3</th>\n",
              "      <th>4</th>\n",
              "      <th>5</th>\n",
              "      <th>6</th>\n",
              "      <th>7</th>\n",
              "      <th>8</th>\n",
              "      <th>9</th>\n",
              "      <th>...</th>\n",
              "      <th>994</th>\n",
              "      <th>995</th>\n",
              "      <th>996</th>\n",
              "      <th>997</th>\n",
              "      <th>998</th>\n",
              "      <th>999</th>\n",
              "      <th>1000</th>\n",
              "      <th>1001</th>\n",
              "      <th>1002</th>\n",
              "      <th>1003</th>\n",
              "    </tr>\n",
              "  </thead>\n",
              "  <tbody>\n",
              "    <tr>\n",
              "      <th>0</th>\n",
              "      <td>0.0</td>\n",
              "      <td>1.0</td>\n",
              "      <td>0.0</td>\n",
              "      <td>0.0</td>\n",
              "      <td>0.0</td>\n",
              "      <td>0.0</td>\n",
              "      <td>0.0</td>\n",
              "      <td>0.0</td>\n",
              "      <td>0.0</td>\n",
              "      <td>0.0</td>\n",
              "      <td>...</td>\n",
              "      <td>0.500</td>\n",
              "      <td>1.0</td>\n",
              "      <td>1.0</td>\n",
              "      <td>1.460</td>\n",
              "      <td>1.0</td>\n",
              "      <td>1.0</td>\n",
              "      <td>5.0</td>\n",
              "      <td>1.0</td>\n",
              "      <td>312.0</td>\n",
              "      <td>0.0</td>\n",
              "    </tr>\n",
              "    <tr>\n",
              "      <th>1</th>\n",
              "      <td>1.0</td>\n",
              "      <td>0.0</td>\n",
              "      <td>0.0</td>\n",
              "      <td>0.0</td>\n",
              "      <td>0.0</td>\n",
              "      <td>0.0</td>\n",
              "      <td>0.0</td>\n",
              "      <td>1.0</td>\n",
              "      <td>0.0</td>\n",
              "      <td>0.0</td>\n",
              "      <td>...</td>\n",
              "      <td>0.165</td>\n",
              "      <td>1.0</td>\n",
              "      <td>1.0</td>\n",
              "      <td>1.000</td>\n",
              "      <td>0.0</td>\n",
              "      <td>1.0</td>\n",
              "      <td>2.0</td>\n",
              "      <td>1.0</td>\n",
              "      <td>320.0</td>\n",
              "      <td>1.0</td>\n",
              "    </tr>\n",
              "    <tr>\n",
              "      <th>2</th>\n",
              "      <td>0.0</td>\n",
              "      <td>1.0</td>\n",
              "      <td>0.0</td>\n",
              "      <td>0.0</td>\n",
              "      <td>0.0</td>\n",
              "      <td>0.0</td>\n",
              "      <td>0.0</td>\n",
              "      <td>0.0</td>\n",
              "      <td>0.0</td>\n",
              "      <td>0.0</td>\n",
              "      <td>...</td>\n",
              "      <td>0.705</td>\n",
              "      <td>1.0</td>\n",
              "      <td>1.0</td>\n",
              "      <td>0.375</td>\n",
              "      <td>0.0</td>\n",
              "      <td>1.0</td>\n",
              "      <td>2.0</td>\n",
              "      <td>0.0</td>\n",
              "      <td>225.0</td>\n",
              "      <td>500.0</td>\n",
              "    </tr>\n",
              "    <tr>\n",
              "      <th>3</th>\n",
              "      <td>0.0</td>\n",
              "      <td>1.0</td>\n",
              "      <td>0.0</td>\n",
              "      <td>0.0</td>\n",
              "      <td>0.0</td>\n",
              "      <td>0.0</td>\n",
              "      <td>0.0</td>\n",
              "      <td>0.0</td>\n",
              "      <td>0.0</td>\n",
              "      <td>0.0</td>\n",
              "      <td>...</td>\n",
              "      <td>16.165</td>\n",
              "      <td>1.0</td>\n",
              "      <td>1.0</td>\n",
              "      <td>3.000</td>\n",
              "      <td>1.0</td>\n",
              "      <td>1.0</td>\n",
              "      <td>9.0</td>\n",
              "      <td>0.0</td>\n",
              "      <td>250.0</td>\n",
              "      <td>730.0</td>\n",
              "    </tr>\n",
              "    <tr>\n",
              "      <th>4</th>\n",
              "      <td>0.0</td>\n",
              "      <td>1.0</td>\n",
              "      <td>0.0</td>\n",
              "      <td>0.0</td>\n",
              "      <td>0.0</td>\n",
              "      <td>0.0</td>\n",
              "      <td>0.0</td>\n",
              "      <td>0.0</td>\n",
              "      <td>1.0</td>\n",
              "      <td>0.0</td>\n",
              "      <td>...</td>\n",
              "      <td>0.750</td>\n",
              "      <td>1.0</td>\n",
              "      <td>1.0</td>\n",
              "      <td>1.750</td>\n",
              "      <td>1.0</td>\n",
              "      <td>1.0</td>\n",
              "      <td>5.0</td>\n",
              "      <td>1.0</td>\n",
              "      <td>352.0</td>\n",
              "      <td>690.0</td>\n",
              "    </tr>\n",
              "  </tbody>\n",
              "</table>\n",
              "<p>5 rows × 1004 columns</p>\n",
              "</div>\n",
              "    <div class=\"colab-df-buttons\">\n",
              "\n",
              "  <div class=\"colab-df-container\">\n",
              "    <button class=\"colab-df-convert\" onclick=\"convertToInteractive('df-967fcf13-8ce0-4758-8007-5d6ca9892bb9')\"\n",
              "            title=\"Convert this dataframe to an interactive table.\"\n",
              "            style=\"display:none;\">\n",
              "\n",
              "  <svg xmlns=\"http://www.w3.org/2000/svg\" height=\"24px\" viewBox=\"0 -960 960 960\">\n",
              "    <path d=\"M120-120v-720h720v720H120Zm60-500h600v-160H180v160Zm220 220h160v-160H400v160Zm0 220h160v-160H400v160ZM180-400h160v-160H180v160Zm440 0h160v-160H620v160ZM180-180h160v-160H180v160Zm440 0h160v-160H620v160Z\"/>\n",
              "  </svg>\n",
              "    </button>\n",
              "\n",
              "  <style>\n",
              "    .colab-df-container {\n",
              "      display:flex;\n",
              "      gap: 12px;\n",
              "    }\n",
              "\n",
              "    .colab-df-convert {\n",
              "      background-color: #E8F0FE;\n",
              "      border: none;\n",
              "      border-radius: 50%;\n",
              "      cursor: pointer;\n",
              "      display: none;\n",
              "      fill: #1967D2;\n",
              "      height: 32px;\n",
              "      padding: 0 0 0 0;\n",
              "      width: 32px;\n",
              "    }\n",
              "\n",
              "    .colab-df-convert:hover {\n",
              "      background-color: #E2EBFA;\n",
              "      box-shadow: 0px 1px 2px rgba(60, 64, 67, 0.3), 0px 1px 3px 1px rgba(60, 64, 67, 0.15);\n",
              "      fill: #174EA6;\n",
              "    }\n",
              "\n",
              "    .colab-df-buttons div {\n",
              "      margin-bottom: 4px;\n",
              "    }\n",
              "\n",
              "    [theme=dark] .colab-df-convert {\n",
              "      background-color: #3B4455;\n",
              "      fill: #D2E3FC;\n",
              "    }\n",
              "\n",
              "    [theme=dark] .colab-df-convert:hover {\n",
              "      background-color: #434B5C;\n",
              "      box-shadow: 0px 1px 3px 1px rgba(0, 0, 0, 0.15);\n",
              "      filter: drop-shadow(0px 1px 2px rgba(0, 0, 0, 0.3));\n",
              "      fill: #FFFFFF;\n",
              "    }\n",
              "  </style>\n",
              "\n",
              "    <script>\n",
              "      const buttonEl =\n",
              "        document.querySelector('#df-967fcf13-8ce0-4758-8007-5d6ca9892bb9 button.colab-df-convert');\n",
              "      buttonEl.style.display =\n",
              "        google.colab.kernel.accessAllowed ? 'block' : 'none';\n",
              "\n",
              "      async function convertToInteractive(key) {\n",
              "        const element = document.querySelector('#df-967fcf13-8ce0-4758-8007-5d6ca9892bb9');\n",
              "        const dataTable =\n",
              "          await google.colab.kernel.invokeFunction('convertToInteractive',\n",
              "                                                    [key], {});\n",
              "        if (!dataTable) return;\n",
              "\n",
              "        const docLinkHtml = 'Like what you see? Visit the ' +\n",
              "          '<a target=\"_blank\" href=https://colab.research.google.com/notebooks/data_table.ipynb>data table notebook</a>'\n",
              "          + ' to learn more about interactive tables.';\n",
              "        element.innerHTML = '';\n",
              "        dataTable['output_type'] = 'display_data';\n",
              "        await google.colab.output.renderOutput(dataTable, element);\n",
              "        const docLink = document.createElement('div');\n",
              "        docLink.innerHTML = docLinkHtml;\n",
              "        element.appendChild(docLink);\n",
              "      }\n",
              "    </script>\n",
              "  </div>\n",
              "\n",
              "\n",
              "<div id=\"df-9a3fd7cf-24ae-4415-b462-dc94059d5da4\">\n",
              "  <button class=\"colab-df-quickchart\" onclick=\"quickchart('df-9a3fd7cf-24ae-4415-b462-dc94059d5da4')\"\n",
              "            title=\"Suggest charts.\"\n",
              "            style=\"display:none;\">\n",
              "\n",
              "<svg xmlns=\"http://www.w3.org/2000/svg\" height=\"24px\"viewBox=\"0 0 24 24\"\n",
              "     width=\"24px\">\n",
              "    <g>\n",
              "        <path d=\"M19 3H5c-1.1 0-2 .9-2 2v14c0 1.1.9 2 2 2h14c1.1 0 2-.9 2-2V5c0-1.1-.9-2-2-2zM9 17H7v-7h2v7zm4 0h-2V7h2v10zm4 0h-2v-4h2v4z\"/>\n",
              "    </g>\n",
              "</svg>\n",
              "  </button>\n",
              "\n",
              "<style>\n",
              "  .colab-df-quickchart {\n",
              "      --bg-color: #E8F0FE;\n",
              "      --fill-color: #1967D2;\n",
              "      --hover-bg-color: #E2EBFA;\n",
              "      --hover-fill-color: #174EA6;\n",
              "      --disabled-fill-color: #AAA;\n",
              "      --disabled-bg-color: #DDD;\n",
              "  }\n",
              "\n",
              "  [theme=dark] .colab-df-quickchart {\n",
              "      --bg-color: #3B4455;\n",
              "      --fill-color: #D2E3FC;\n",
              "      --hover-bg-color: #434B5C;\n",
              "      --hover-fill-color: #FFFFFF;\n",
              "      --disabled-bg-color: #3B4455;\n",
              "      --disabled-fill-color: #666;\n",
              "  }\n",
              "\n",
              "  .colab-df-quickchart {\n",
              "    background-color: var(--bg-color);\n",
              "    border: none;\n",
              "    border-radius: 50%;\n",
              "    cursor: pointer;\n",
              "    display: none;\n",
              "    fill: var(--fill-color);\n",
              "    height: 32px;\n",
              "    padding: 0;\n",
              "    width: 32px;\n",
              "  }\n",
              "\n",
              "  .colab-df-quickchart:hover {\n",
              "    background-color: var(--hover-bg-color);\n",
              "    box-shadow: 0 1px 2px rgba(60, 64, 67, 0.3), 0 1px 3px 1px rgba(60, 64, 67, 0.15);\n",
              "    fill: var(--button-hover-fill-color);\n",
              "  }\n",
              "\n",
              "  .colab-df-quickchart-complete:disabled,\n",
              "  .colab-df-quickchart-complete:disabled:hover {\n",
              "    background-color: var(--disabled-bg-color);\n",
              "    fill: var(--disabled-fill-color);\n",
              "    box-shadow: none;\n",
              "  }\n",
              "\n",
              "  .colab-df-spinner {\n",
              "    border: 2px solid var(--fill-color);\n",
              "    border-color: transparent;\n",
              "    border-bottom-color: var(--fill-color);\n",
              "    animation:\n",
              "      spin 1s steps(1) infinite;\n",
              "  }\n",
              "\n",
              "  @keyframes spin {\n",
              "    0% {\n",
              "      border-color: transparent;\n",
              "      border-bottom-color: var(--fill-color);\n",
              "      border-left-color: var(--fill-color);\n",
              "    }\n",
              "    20% {\n",
              "      border-color: transparent;\n",
              "      border-left-color: var(--fill-color);\n",
              "      border-top-color: var(--fill-color);\n",
              "    }\n",
              "    30% {\n",
              "      border-color: transparent;\n",
              "      border-left-color: var(--fill-color);\n",
              "      border-top-color: var(--fill-color);\n",
              "      border-right-color: var(--fill-color);\n",
              "    }\n",
              "    40% {\n",
              "      border-color: transparent;\n",
              "      border-right-color: var(--fill-color);\n",
              "      border-top-color: var(--fill-color);\n",
              "    }\n",
              "    60% {\n",
              "      border-color: transparent;\n",
              "      border-right-color: var(--fill-color);\n",
              "    }\n",
              "    80% {\n",
              "      border-color: transparent;\n",
              "      border-right-color: var(--fill-color);\n",
              "      border-bottom-color: var(--fill-color);\n",
              "    }\n",
              "    90% {\n",
              "      border-color: transparent;\n",
              "      border-bottom-color: var(--fill-color);\n",
              "    }\n",
              "  }\n",
              "</style>\n",
              "\n",
              "  <script>\n",
              "    async function quickchart(key) {\n",
              "      const quickchartButtonEl =\n",
              "        document.querySelector('#' + key + ' button');\n",
              "      quickchartButtonEl.disabled = true;  // To prevent multiple clicks.\n",
              "      quickchartButtonEl.classList.add('colab-df-spinner');\n",
              "      try {\n",
              "        const charts = await google.colab.kernel.invokeFunction(\n",
              "            'suggestCharts', [key], {});\n",
              "      } catch (error) {\n",
              "        console.error('Error during call to suggestCharts:', error);\n",
              "      }\n",
              "      quickchartButtonEl.classList.remove('colab-df-spinner');\n",
              "      quickchartButtonEl.classList.add('colab-df-quickchart-complete');\n",
              "    }\n",
              "    (() => {\n",
              "      let quickchartButtonEl =\n",
              "        document.querySelector('#df-9a3fd7cf-24ae-4415-b462-dc94059d5da4 button');\n",
              "      quickchartButtonEl.style.display =\n",
              "        google.colab.kernel.accessAllowed ? 'block' : 'none';\n",
              "    })();\n",
              "  </script>\n",
              "</div>\n",
              "    </div>\n",
              "  </div>\n"
            ]
          },
          "metadata": {}
        }
      ]
    },
    {
      "cell_type": "markdown",
      "source": [
        "## Normilazition"
      ],
      "metadata": {
        "id": "1MCb_N3i5mzg"
      }
    },
    {
      "cell_type": "code",
      "source": [
        "scaler = sklearn.preprocessing.StandardScaler(with_mean=False)\n",
        "scaler.fit(x_training_data_final)\n",
        "x_data_training = scaler.transform(x_training_data_final)\n",
        "x_data_testing = scaler.transform(x_testing_data_final)\n",
        "\n",
        "\n",
        "display(\"Traning Data Size\", x_data_training.shape)\n",
        "display(\"Testing Data Size\", x_data_testing.shape)"
      ],
      "metadata": {
        "colab": {
          "base_uri": "https://localhost:8080/",
          "height": 88
        },
        "id": "n-R5badwz1e1",
        "outputId": "fc95f779-469d-41e7-ddcf-8eb411a0449f"
      },
      "execution_count": null,
      "outputs": [
        {
          "output_type": "display_data",
          "data": {
            "text/plain": [
              "'Traning Data Size'"
            ],
            "application/vnd.google.colaboratory.intrinsic+json": {
              "type": "string"
            }
          },
          "metadata": {}
        },
        {
          "output_type": "display_data",
          "data": {
            "text/plain": [
              "(517, 1004)"
            ]
          },
          "metadata": {}
        },
        {
          "output_type": "display_data",
          "data": {
            "text/plain": [
              "'Testing Data Size'"
            ],
            "application/vnd.google.colaboratory.intrinsic+json": {
              "type": "string"
            }
          },
          "metadata": {}
        },
        {
          "output_type": "display_data",
          "data": {
            "text/plain": [
              "(173, 1004)"
            ]
          },
          "metadata": {}
        }
      ]
    },
    {
      "cell_type": "markdown",
      "source": [
        "Normalization is a technique for adjusting the values of features in a dataset so that they are all on a similar scale. This helps to prevent any particular feature from having a disproportionate influence on the learning process\n",
        "\n",
        "Next step is to proceed with hyperparameter tuning and model selection, explaining the process and results in detail."
      ],
      "metadata": {
        "id": "NcmER7E0WvEW"
      }
    },
    {
      "cell_type": "markdown",
      "source": [
        "## Model Selection and Hyperparameter Tuning"
      ],
      "metadata": {
        "id": "5j_d2_zLfPRe"
      }
    },
    {
      "cell_type": "code",
      "source": [
        "# Logistic Regression\n",
        "\n",
        "parameters_grid = {\n",
        "\n",
        "    \"C\": [0.1, 1, 10, 100],\n",
        "    \"max_iter\": [100, 1000, 10000],\n",
        "    \"tol\": [0.0001, 0.001, 0.01]\n",
        "}\n",
        "\n",
        "M1 = GSCV(LR(),\n",
        "     parameters_grid, scoring=\"accuracy\", cv=5, n_jobs=-1)\n",
        "\n",
        "M1.fit(x_data_training, y_training_data)\n",
        "\n",
        "display(\"L.R Accuracy = {:.2f}\".format(M1.best_score_))\n",
        "display(\"Best Parameters of L.R = {}\".format(M1.best_params_))"
      ],
      "metadata": {
        "colab": {
          "base_uri": "https://localhost:8080/",
          "height": 54
        },
        "id": "iBvLra8KGLCT",
        "outputId": "05073552-b7c6-416b-8a99-5e0fe6529892"
      },
      "execution_count": null,
      "outputs": [
        {
          "output_type": "display_data",
          "data": {
            "text/plain": [
              "'L.R Accuracy = 0.86'"
            ],
            "application/vnd.google.colaboratory.intrinsic+json": {
              "type": "string"
            }
          },
          "metadata": {}
        },
        {
          "output_type": "display_data",
          "data": {
            "text/plain": [
              "\"Best Parameters of L.R = {'C': 0.1, 'max_iter': 100, 'tol': 0.0001}\""
            ],
            "application/vnd.google.colaboratory.intrinsic+json": {
              "type": "string"
            }
          },
          "metadata": {}
        }
      ]
    },
    {
      "cell_type": "markdown",
      "source": [
        "In this segment, we utilize grid search to find the best hyperparameters for a Logistic Regression model. Grid search is a technique to tune hyperparameters by specifying a range of values for each parameter and evaluating all possible combinations. We can see that we get a result of 86 percent accuraccy of the best Logistic regression Model"
      ],
      "metadata": {
        "id": "9K3hjtL_W7gD"
      }
    },
    {
      "cell_type": "code",
      "source": [
        "# Decision Tree\n",
        "\n",
        "parameters_grid = {\n",
        "\n",
        "    \"max_depth\": range(1, 10),\n",
        "    \"min_samples_split\": range(2, 10),\n",
        "    \"min_samples_leaf\": range(1, 10)\n",
        "\n",
        "}\n",
        "M2 = GSCV(DT(),\n",
        "      parameters_grid, scoring=\"accuracy\", cv=5, n_jobs=-1)\n",
        "\n",
        "M2.fit(x_data_training, y_training_data)\n",
        "\n",
        "display(\"D.T Accuracy = {:.2f}\".format(M2.best_score_))\n",
        "display(\"Best Parameters of D.T = {}\".format(M2.best_params_))"
      ],
      "metadata": {
        "colab": {
          "base_uri": "https://localhost:8080/",
          "height": 71
        },
        "id": "kmnrRA4pGMip",
        "outputId": "43c3d35f-aec2-4e05-dfea-f9e63378a30b"
      },
      "execution_count": null,
      "outputs": [
        {
          "output_type": "display_data",
          "data": {
            "text/plain": [
              "'D.T Accuracy = 0.86'"
            ],
            "application/vnd.google.colaboratory.intrinsic+json": {
              "type": "string"
            }
          },
          "metadata": {}
        },
        {
          "output_type": "display_data",
          "data": {
            "text/plain": [
              "\"Best Parameters of D.T = {'max_depth': 1, 'min_samples_leaf': 1, 'min_samples_split': 2}\""
            ],
            "application/vnd.google.colaboratory.intrinsic+json": {
              "type": "string"
            }
          },
          "metadata": {}
        }
      ]
    },
    {
      "cell_type": "markdown",
      "source": [
        "We follow a similar procedure for hyperparameter tuning with grid search, this time for a Decision Tree model. Hyperparameters significantly affect the model's performance, and tuning them is a crucial step in the machine learning pipeline.\n",
        "\n",
        "The accuracy of Decision tree is 86 percent"
      ],
      "metadata": {
        "id": "jIHVwIvOXTdk"
      }
    },
    {
      "cell_type": "code",
      "source": [
        "# Random Forest\n",
        "\n",
        "parameters_grid = {\n",
        "     \"max_depth\": range(1, 10),\n",
        "    \"min_samples_split\": range(2, 5),\n",
        "    \"n_estimators\": [100]\n",
        "}\n",
        "M3 = GSCV(RF(),\n",
        "        parameters_grid, scoring=\"accuracy\", cv=5, n_jobs=-1)\n",
        "\n",
        "M3.fit(x_data_training, y_training_data)\n",
        "\n",
        "display(\"R.F Accuracy = {:.2f}\".format(M3.best_score_))\n",
        "display(\"Best Parameters of R.F = {}\".format(M3.best_params_))\n"
      ],
      "metadata": {
        "colab": {
          "base_uri": "https://localhost:8080/",
          "height": 71
        },
        "id": "h6cleVYqGNtN",
        "outputId": "da466b43-3e89-4672-b05a-885c15eed7d1"
      },
      "execution_count": null,
      "outputs": [
        {
          "output_type": "display_data",
          "data": {
            "text/plain": [
              "'R.F Accuracy = 0.88'"
            ],
            "application/vnd.google.colaboratory.intrinsic+json": {
              "type": "string"
            }
          },
          "metadata": {}
        },
        {
          "output_type": "display_data",
          "data": {
            "text/plain": [
              "\"Best Parameters of R.F = {'max_depth': 8, 'min_samples_split': 2, 'n_estimators': 100}\""
            ],
            "application/vnd.google.colaboratory.intrinsic+json": {
              "type": "string"
            }
          },
          "metadata": {}
        }
      ]
    },
    {
      "cell_type": "markdown",
      "source": [
        "Hyper parameter tuning is performed for Random forest we can see that the algorithm has an accuracy of 88 percent on the training data and the best features are displayed"
      ],
      "metadata": {
        "id": "Mgs13sMpXY_4"
      }
    },
    {
      "cell_type": "code",
      "source": [
        "# KNN\n",
        "\n",
        "parameters_grid = {\n",
        "     \"n_neighbors\": range(1, 5),\n",
        "    \"leaf_size\": [1, 10],\n",
        "\n",
        "}\n",
        "\n",
        "M4 = GSCV(KNN(),\n",
        "      parameters_grid, scoring=\"accuracy\", cv=5, n_jobs=-1)\n",
        "\n",
        "M4.fit(x_data_training, y_training_data)\n",
        "best_model = M4.best_estimator_\n",
        "\n",
        "display(\"KNN Accuracy = {:.2f}\".format(best_model.score(x_data_training, y_training_data)))\n",
        "display(\"Best Parameters of KNN = {}\".format(M4.best_params_))\n"
      ],
      "metadata": {
        "colab": {
          "base_uri": "https://localhost:8080/",
          "height": 54
        },
        "id": "hluLtBz8GPOz",
        "outputId": "d675a167-a045-49d7-ae3b-5d819eab1a30"
      },
      "execution_count": null,
      "outputs": [
        {
          "output_type": "display_data",
          "data": {
            "text/plain": [
              "'KNN Accuracy = 0.79'"
            ],
            "application/vnd.google.colaboratory.intrinsic+json": {
              "type": "string"
            }
          },
          "metadata": {}
        },
        {
          "output_type": "display_data",
          "data": {
            "text/plain": [
              "\"Best Parameters of KNN = {'leaf_size': 1, 'n_neighbors': 4}\""
            ],
            "application/vnd.google.colaboratory.intrinsic+json": {
              "type": "string"
            }
          },
          "metadata": {}
        }
      ]
    },
    {
      "cell_type": "markdown",
      "source": [
        "Here, we perform hyperparameter tuning for a K-Nearest Neighbors (KNN) model. KNN is a simple and widely used classification algorithm based on feature similarity.\n",
        "The accuracy is 79 percent"
      ],
      "metadata": {
        "id": "LFR791LWXphp"
      }
    },
    {
      "cell_type": "code",
      "source": [
        "# SVM\n",
        "\n",
        "parameters_grid = {\n",
        "   \"C\": [1.0, 10.0, 100.0],\n",
        "    \"gamma\": [\"scale\", \"auto\"],\n",
        "}\n",
        "\n",
        "M5 = GSCV(sklearn.svm.SVC(),\n",
        "        parameters_grid, scoring=\"accuracy\", cv=5, n_jobs=-1)\n",
        "\n",
        "M5.fit(x_data_training, y_training_data)\n",
        "\n",
        "display(\"SVM Accuracy = {:.2f}\".format(M5.best_score_))\n",
        "display(\"Best Parameters of SVM = {}\".format(M5.best_params_))"
      ],
      "metadata": {
        "colab": {
          "base_uri": "https://localhost:8080/",
          "height": 54
        },
        "id": "Ay7a4G9lXsWk",
        "outputId": "5c49a4a6-7995-4e41-ab05-686f3480fe4e"
      },
      "execution_count": null,
      "outputs": [
        {
          "output_type": "display_data",
          "data": {
            "text/plain": [
              "'SVM Accuracy = 0.83'"
            ],
            "application/vnd.google.colaboratory.intrinsic+json": {
              "type": "string"
            }
          },
          "metadata": {}
        },
        {
          "output_type": "display_data",
          "data": {
            "text/plain": [
              "\"Best Parameters of SVM = {'C': 10.0, 'gamma': 'scale'}\""
            ],
            "application/vnd.google.colaboratory.intrinsic+json": {
              "type": "string"
            }
          },
          "metadata": {}
        }
      ]
    },
    {
      "cell_type": "markdown",
      "source": [
        "Hyper parameter tuning is performed for SVM we can see that the algorithm has an accuracy of 83 percent on the training data and the best features are displayed"
      ],
      "metadata": {
        "id": "D7JP2N7mXuhY"
      }
    },
    {
      "cell_type": "markdown",
      "source": [
        "# Best Model Testing"
      ],
      "metadata": {
        "id": "weHvK30ScHg1"
      }
    },
    {
      "cell_type": "code",
      "source": [
        "# Random Forest\n",
        "\n",
        "y_prediction = M3.predict(x_data_testing)\n",
        "accuracy = sklearn.metrics.accuracy_score(y_testing_data, y_prediction)\n",
        "cm = sklearn.metrics.confusion_matrix(y_testing_data, y_prediction)\n",
        "precision,recall, f1, support = sklearn.metrics.precision_recall_fscore_support(y_testing_data, y_prediction, zero_division=1)\n",
        "\n",
        "display(\"Accuracy =\", accuracy)\n",
        "display(\"Precision =\", precision)\n",
        "display(\"Recall =\", recall)\n",
        "display(\"F1-Score =\", f1)\n",
        "display(\"Confusion Matrix:\\n\", cm)"
      ],
      "metadata": {
        "colab": {
          "base_uri": "https://localhost:8080/",
          "height": 213
        },
        "id": "PYR-XooFcJfn",
        "outputId": "b73405e7-9e0d-419c-da6b-a9774736c6de"
      },
      "execution_count": null,
      "outputs": [
        {
          "output_type": "display_data",
          "data": {
            "text/plain": [
              "'Accuracy ='"
            ],
            "application/vnd.google.colaboratory.intrinsic+json": {
              "type": "string"
            }
          },
          "metadata": {}
        },
        {
          "output_type": "display_data",
          "data": {
            "text/plain": [
              "0.8728323699421965"
            ]
          },
          "metadata": {}
        },
        {
          "output_type": "display_data",
          "data": {
            "text/plain": [
              "'Precision ='"
            ],
            "application/vnd.google.colaboratory.intrinsic+json": {
              "type": "string"
            }
          },
          "metadata": {}
        },
        {
          "output_type": "display_data",
          "data": {
            "text/plain": [
              "array([0.8627451 , 0.88732394])"
            ]
          },
          "metadata": {}
        },
        {
          "output_type": "display_data",
          "data": {
            "text/plain": [
              "'Recall ='"
            ],
            "application/vnd.google.colaboratory.intrinsic+json": {
              "type": "string"
            }
          },
          "metadata": {}
        },
        {
          "output_type": "display_data",
          "data": {
            "text/plain": [
              "array([0.91666667, 0.81818182])"
            ]
          },
          "metadata": {}
        },
        {
          "output_type": "display_data",
          "data": {
            "text/plain": [
              "'F1-Score ='"
            ],
            "application/vnd.google.colaboratory.intrinsic+json": {
              "type": "string"
            }
          },
          "metadata": {}
        },
        {
          "output_type": "display_data",
          "data": {
            "text/plain": [
              "array([0.88888889, 0.85135135])"
            ]
          },
          "metadata": {}
        },
        {
          "output_type": "display_data",
          "data": {
            "text/plain": [
              "'Confusion Matrix:\\n'"
            ],
            "application/vnd.google.colaboratory.intrinsic+json": {
              "type": "string"
            }
          },
          "metadata": {}
        },
        {
          "output_type": "display_data",
          "data": {
            "text/plain": [
              "array([[88,  8],\n",
              "       [14, 63]])"
            ]
          },
          "metadata": {}
        }
      ]
    },
    {
      "cell_type": "markdown",
      "source": [
        "Here, we apply the best-performing model (Random Forest) on the test set and evaluate its performance using various metrics such as accuracy, precision, recall, F1-score, and the confusion matrix"
      ],
      "metadata": {
        "id": "HK3rmhR4X9RX"
      }
    },
    {
      "cell_type": "markdown",
      "source": [
        "# Conclusion and Discussion\n",
        "The machine learning pipeline presented here aimed to automate the credit card approval process using a dataset with various features related to applicants. The pipeline consists of data preprocessing, model selection, hyperparameter tuning, and evaluation of the best model."
      ],
      "metadata": {
        "id": "ddtyLAhCB95h"
      }
    },
    {
      "cell_type": "markdown",
      "source": [
        "## Data Preprocessing\n",
        "\n",
        "The dataset was preprocessed tho handel missing values, encode categorical features and normalize numerical features. This step is crucial to ensure quality and uniformity of the data for model traning"
      ],
      "metadata": {
        "id": "yRLrsSbt8WH2"
      }
    },
    {
      "cell_type": "markdown",
      "source": [
        "## Model Selection and Hyperparameter Tuning:\n",
        "\n",
        "Several models were considered including LR (Logistic Regression), DT(Decision Tree) RF(Random Forest) KNN(K-Nearest Neighbors) and SVM(Support Vector Machine). Hyperparameters for each model were tuned using Grid Search to optamize their performance.\n",
        "\n",
        "\n",
        "\n",
        "1.   LR: acchived an accuracy of 86%\n",
        "2.   DT: acchived the accuracy of 86%\n",
        "3.   RF: acchived accuracy of 88%\n",
        "4.   KNN: accuracy of 79%\n",
        "5.   SVM: accuracy of 83%\n"
      ],
      "metadata": {
        "id": "xCITUA-4817t"
      }
    },
    {
      "cell_type": "markdown",
      "source": [
        "## Model Evaluation:\n",
        "The Random Forest model, which achieved the highest accuracy, was selected as the best model. Its performance was evaluated using accuracy, precision, recall, F1-score, and a confusion matrix on the test dataset.\n",
        "\n",
        "\n",
        "\n",
        "1.   Accuracy: 88%\n",
        "2.   Precision: Based on the class (Approved or Not Approved)\n",
        "3.   F1-Score: Based on the class (Approved or Not Approved)\n",
        "4.   Confusion Matrix: Provides a detailed breakdown of true positives, true negatives, false positives, and false negatives.\n"
      ],
      "metadata": {
        "id": "1UpwoqsC-kQJ"
      }
    },
    {
      "cell_type": "markdown",
      "source": [
        "# Strengths:\n",
        "Data Preprocessing: The pipeline effectively handled missing values, encoded categorical features, and standardized the data through normalization, ensuring the quality and uniformity of the dataset for model training.\n",
        "\n",
        "Hyperparameter Tuning: Grid search was employed to systematically explore a range of hyperparameters for each model, assisting in finding the best set of hyperparameters that optimize model performance.\n",
        "\n",
        "Model Evaluation: The best-performing model (Random Forest) was evaluated comprehensively using accuracy, precision, recall, F1-score, and the confusion matrix, providing a detailed view of its performance."
      ],
      "metadata": {
        "id": "UtaP2IBJCQAD"
      }
    },
    {
      "cell_type": "markdown",
      "source": [
        "# Limitations:\n",
        "Limited Hyperparameters: The hyperparameters explored were restricted to predetermined ranges, and a more thorough search might potentially increase model performance.\n",
        "\n",
        "Assumption of Best Model: Random Forest was assumed to be the best model based on training data performance. However, the best model choice might vary with different datasets or problem domains.\n",
        "\n",
        "Assumed Importance of Features: The importance of features in the Random Forest model was not analyzed. Understanding feature importance could provide valuable insights into the decision-making process of the model.\n",
        "\n",
        "Imbalanced Data: The dataset might be imbalanced with respect to the target variable (Approved/Not Approved). Addressing this imbalance is crucial to avoid biased model performance."
      ],
      "metadata": {
        "id": "QZ8j-dyUCTHv"
      }
    },
    {
      "cell_type": "markdown",
      "source": [
        "# Conclusion\n",
        "\n",
        "Finally, this is a complete machine learning pipline used to automate credit card approval processes. Following extensive testing, the Random Forest model was determined to be the best-performing model for this particular dataset. Additional modifications and studies may improve the model's accuracy and Adaptability for real-world credit card approval applications."
      ],
      "metadata": {
        "id": "Q1X0BT_VAlUj"
      }
    },
    {
      "cell_type": "code",
      "source": [
        "!jupyter nbconvert Credit_Card_Approval.ipynb --to html"
      ],
      "metadata": {
        "colab": {
          "base_uri": "https://localhost:8080/"
        },
        "id": "VxP17E4cfBTY",
        "outputId": "9471ccea-a45a-4ec5-f392-38047c59b5a8"
      },
      "execution_count": null,
      "outputs": [
        {
          "output_type": "stream",
          "name": "stdout",
          "text": [
            "[NbConvertApp] Converting notebook Credit_Card_Approval.ipynb to html\n",
            "[NbConvertApp] Writing 748883 bytes to Credit_Card_Approval.html\n"
          ]
        }
      ]
    }
  ]
}